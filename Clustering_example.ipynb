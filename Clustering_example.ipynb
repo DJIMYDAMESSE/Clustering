{
 "cells": [
  {
   "cell_type": "code",
   "execution_count": 1,
   "metadata": {
    "collapsed": true
   },
   "outputs": [],
   "source": [
    "# needed imports\n",
    "import pandas as pd\n",
    "import numpy  as np\n",
    "import sklearn\n",
    "import sklearn.datasets\n",
    "\n",
    "from   sklearn.cluster         import AgglomerativeClustering\n",
    "from   matplotlib              import pyplot as plt\n",
    "from   scipy.cluster.hierarchy import dendrogram, linkage"
   ]
  },
  {
   "cell_type": "code",
   "execution_count": 2,
   "metadata": {
    "collapsed": true
   },
   "outputs": [],
   "source": [
    "%matplotlib inline\n",
    "np.set_printoptions(precision=5, suppress=True)  # suppress scientific float notation"
   ]
  },
  {
   "cell_type": "code",
   "execution_count": 3,
   "metadata": {
    "collapsed": true
   },
   "outputs": [],
   "source": [
    "url   = 'http://archive.ics.uci.edu/ml/machine-learning-databases/wine-quality/winequality-red.csv'\n",
    "data  = pd.read_csv(url, sep = \";\")"
   ]
  },
  {
   "cell_type": "markdown",
   "metadata": {},
   "source": [
    "Note: The first line specifies the url of the dataset, the second line loads the dataset into a dataframe data (a dataframe is simply used to hold data)."
   ]
  },
  {
   "cell_type": "markdown",
   "metadata": {},
   "source": [
    "pd.read_csv() is a function in pandas. The first argument is the path to the data, the second argument is the seperator used in the data set."
   ]
  },
  {
   "cell_type": "code",
   "execution_count": 4,
   "metadata": {
    "collapsed": true
   },
   "outputs": [],
   "source": [
    "X     = data[[u'fixed acidity', u'volatile acidity', u'citric acid', u'residual sugar', u'chlorides', u'free sulfur dioxide', \\\n",
    "             u'total sulfur dioxide', u'density', u'pH', u'sulphates', 'alcohol']]\n",
    "y     = data.quality"
   ]
  },
  {
   "cell_type": "code",
   "execution_count": 5,
   "metadata": {
    "collapsed": true
   },
   "outputs": [],
   "source": [
    "n_clusters = 9 "
   ]
  },
  {
   "cell_type": "code",
   "execution_count": 6,
   "metadata": {
    "collapsed": true
   },
   "outputs": [],
   "source": [
    "Hclustering = AgglomerativeClustering(n_clusters = n_clusters, affinity = 'cosine', linkage = 'complete')"
   ]
  },
  {
   "cell_type": "code",
   "execution_count": 7,
   "metadata": {},
   "outputs": [
    {
     "data": {
      "text/html": [
       "<div>\n",
       "<style scoped>\n",
       "    .dataframe tbody tr th:only-of-type {\n",
       "        vertical-align: middle;\n",
       "    }\n",
       "\n",
       "    .dataframe tbody tr th {\n",
       "        vertical-align: top;\n",
       "    }\n",
       "\n",
       "    .dataframe thead th {\n",
       "        text-align: right;\n",
       "    }\n",
       "</style>\n",
       "<table border=\"1\" class=\"dataframe\">\n",
       "  <thead>\n",
       "    <tr style=\"text-align: right;\">\n",
       "      <th>Clusters</th>\n",
       "      <th>0</th>\n",
       "      <th>1</th>\n",
       "      <th>2</th>\n",
       "      <th>3</th>\n",
       "      <th>4</th>\n",
       "      <th>5</th>\n",
       "      <th>6</th>\n",
       "      <th>7</th>\n",
       "      <th>8</th>\n",
       "      <th>All</th>\n",
       "    </tr>\n",
       "    <tr>\n",
       "      <th>Actual</th>\n",
       "      <th></th>\n",
       "      <th></th>\n",
       "      <th></th>\n",
       "      <th></th>\n",
       "      <th></th>\n",
       "      <th></th>\n",
       "      <th></th>\n",
       "      <th></th>\n",
       "      <th></th>\n",
       "      <th></th>\n",
       "    </tr>\n",
       "  </thead>\n",
       "  <tbody>\n",
       "    <tr>\n",
       "      <th>3</th>\n",
       "      <td>1</td>\n",
       "      <td>3</td>\n",
       "      <td>0</td>\n",
       "      <td>4</td>\n",
       "      <td>0</td>\n",
       "      <td>0</td>\n",
       "      <td>0</td>\n",
       "      <td>0</td>\n",
       "      <td>2</td>\n",
       "      <td>10</td>\n",
       "    </tr>\n",
       "    <tr>\n",
       "      <th>4</th>\n",
       "      <td>13</td>\n",
       "      <td>15</td>\n",
       "      <td>3</td>\n",
       "      <td>12</td>\n",
       "      <td>2</td>\n",
       "      <td>1</td>\n",
       "      <td>0</td>\n",
       "      <td>1</td>\n",
       "      <td>6</td>\n",
       "      <td>53</td>\n",
       "    </tr>\n",
       "    <tr>\n",
       "      <th>5</th>\n",
       "      <td>298</td>\n",
       "      <td>217</td>\n",
       "      <td>4</td>\n",
       "      <td>112</td>\n",
       "      <td>9</td>\n",
       "      <td>5</td>\n",
       "      <td>1</td>\n",
       "      <td>12</td>\n",
       "      <td>23</td>\n",
       "      <td>681</td>\n",
       "    </tr>\n",
       "    <tr>\n",
       "      <th>6</th>\n",
       "      <td>163</td>\n",
       "      <td>258</td>\n",
       "      <td>13</td>\n",
       "      <td>109</td>\n",
       "      <td>48</td>\n",
       "      <td>1</td>\n",
       "      <td>0</td>\n",
       "      <td>20</td>\n",
       "      <td>26</td>\n",
       "      <td>638</td>\n",
       "    </tr>\n",
       "    <tr>\n",
       "      <th>7</th>\n",
       "      <td>25</td>\n",
       "      <td>68</td>\n",
       "      <td>17</td>\n",
       "      <td>52</td>\n",
       "      <td>13</td>\n",
       "      <td>3</td>\n",
       "      <td>0</td>\n",
       "      <td>6</td>\n",
       "      <td>15</td>\n",
       "      <td>199</td>\n",
       "    </tr>\n",
       "    <tr>\n",
       "      <th>8</th>\n",
       "      <td>3</td>\n",
       "      <td>5</td>\n",
       "      <td>0</td>\n",
       "      <td>7</td>\n",
       "      <td>1</td>\n",
       "      <td>1</td>\n",
       "      <td>0</td>\n",
       "      <td>0</td>\n",
       "      <td>1</td>\n",
       "      <td>18</td>\n",
       "    </tr>\n",
       "    <tr>\n",
       "      <th>All</th>\n",
       "      <td>503</td>\n",
       "      <td>566</td>\n",
       "      <td>37</td>\n",
       "      <td>296</td>\n",
       "      <td>73</td>\n",
       "      <td>11</td>\n",
       "      <td>1</td>\n",
       "      <td>39</td>\n",
       "      <td>73</td>\n",
       "      <td>1599</td>\n",
       "    </tr>\n",
       "  </tbody>\n",
       "</table>\n",
       "</div>"
      ],
      "text/plain": [
       "Clusters    0    1   2    3   4   5  6   7   8   All\n",
       "Actual                                              \n",
       "3           1    3   0    4   0   0  0   0   2    10\n",
       "4          13   15   3   12   2   1  0   1   6    53\n",
       "5         298  217   4  112   9   5  1  12  23   681\n",
       "6         163  258  13  109  48   1  0  20  26   638\n",
       "7          25   68  17   52  13   3  0   6  15   199\n",
       "8           3    5   0    7   1   1  0   0   1    18\n",
       "All       503  566  37  296  73  11  1  39  73  1599"
      ]
     },
     "execution_count": 7,
     "metadata": {},
     "output_type": "execute_result"
    }
   ],
   "source": [
    "Hclustering.fit(X)\n",
    "ms          = np.column_stack((y,Hclustering.labels_))\n",
    "df          = pd.DataFrame(ms, columns = ['Actual', 'Clusters'])\n",
    "pd.crosstab(df['Actual'], df['Clusters'], margins=True)"
   ]
  },
  {
   "cell_type": "code",
   "execution_count": 8,
   "metadata": {},
   "outputs": [
    {
     "data": {
      "image/png": "[encoded data removed]",
      "text/plain": [
       "<matplotlib.figure.Figure at 0x2cfa3df6828>"
      ]
     },
     "metadata": {},
     "output_type": "display_data"
    }
   ],
   "source": [
    "plt.figure()\n",
    "plt.axes([0, 0, 1, 1])\n",
    "for l, c in zip(np.arange(n_clusters), 'rgbk'):\n",
    "    plt.plot(X[Hclustering.labels_ == l].T, c=c, alpha=.5)\n",
    "    plt.axis('tight')\n",
    "    plt.axis('off')\n",
    "    plt.suptitle(\"AgglomerativeClustering(affinity=%s)\" % 'cosine', size=20)"
   ]
  },
  {
   "cell_type": "code",
   "execution_count": 9,
   "metadata": {},
   "outputs": [
    {
     "data": {
      "text/plain": [
       "{'color_list': ['g', 'g', 'g', 'g', 'g', 'g', 'g', 'g', 'g', 'g', 'b'],\n",
       " 'dcoord': [[0.0, 22.930806508713577, 22.930806508713577, 0.0],\n",
       "  [0.0, 23.029783490179412, 23.029783490179412, 0.0],\n",
       "  [22.930806508713577,\n",
       "   29.810886151733477,\n",
       "   29.810886151733477,\n",
       "   23.029783490179412],\n",
       "  [0.0, 45.16350942867178, 45.16350942867178, 29.810886151733477],\n",
       "  [0.0, 32.622801719240066, 32.622801719240066, 0.0],\n",
       "  [0.0, 25.217641745071358, 25.217641745071358, 0.0],\n",
       "  [0.0, 36.22109564796727, 36.22109564796727, 0.0],\n",
       "  [25.217641745071358,\n",
       "   46.95259195449628,\n",
       "   46.95259195449628,\n",
       "   36.22109564796727],\n",
       "  [32.622801719240066,\n",
       "   48.928013687058645,\n",
       "   48.928013687058645,\n",
       "   46.95259195449628],\n",
       "  [45.16350942867178,\n",
       "   98.92375266705317,\n",
       "   98.92375266705317,\n",
       "   48.928013687058645],\n",
       "  [0.0, 195.0813921239646, 195.0813921239646, 98.92375266705317]],\n",
       " 'icoord': [[25.0, 25.0, 35.0, 35.0],\n",
       "  [45.0, 45.0, 55.0, 55.0],\n",
       "  [30.0, 30.0, 50.0, 50.0],\n",
       "  [15.0, 15.0, 40.0, 40.0],\n",
       "  [65.0, 65.0, 75.0, 75.0],\n",
       "  [85.0, 85.0, 95.0, 95.0],\n",
       "  [105.0, 105.0, 115.0, 115.0],\n",
       "  [90.0, 90.0, 110.0, 110.0],\n",
       "  [70.0, 70.0, 100.0, 100.0],\n",
       "  [27.5, 27.5, 85.0, 85.0],\n",
       "  [5.0, 5.0, 56.25, 56.25]],\n",
       " 'ivl': ['(2)',\n",
       "  '(615)',\n",
       "  '(456)',\n",
       "  '(155)',\n",
       "  '(9)',\n",
       "  '(199)',\n",
       "  '1244',\n",
       "  '(26)',\n",
       "  '1235',\n",
       "  '(56)',\n",
       "  '(3)',\n",
       "  '(76)'],\n",
       " 'leaves': [3160,\n",
       "  3172,\n",
       "  3176,\n",
       "  3179,\n",
       "  3175,\n",
       "  3182,\n",
       "  1244,\n",
       "  3185,\n",
       "  1235,\n",
       "  3181,\n",
       "  3145,\n",
       "  3184]}"
      ]
     },
     "execution_count": 9,
     "metadata": {},
     "output_type": "execute_result"
    },
    {
     "data": {
      "image/png": "[encoded data removed]",
      "text/plain": [
       "<matplotlib.figure.Figure at 0x2cfa3d98be0>"
      ]
     },
     "metadata": {},
     "output_type": "display_data"
    }
   ],
   "source": [
    "z = linkage(X, 'median')\n",
    "plt.figure(figsize = (10, 10))\n",
    "dendrogram(\n",
    " z,\n",
    " truncate_mode   = 'lastp',\n",
    " p               = 12,\n",
    " leaf_rotation   = 90.,\n",
    " leaf_font_size  = 12.,\n",
    " show_contracted = True,\n",
    ")"
   ]
  },
  {
   "cell_type": "code",
   "execution_count": 10,
   "metadata": {},
   "outputs": [
    {
     "name": "stdout",
     "output_type": "stream",
     "text": [
      "\n",
      "affinity euclidean linkage ward\n",
      "Clusters    0    1    2    3   4  5   6    7   8   All\n",
      "Actual                                                \n",
      "3           1    2    0    1   0  0   0    6   0    10\n",
      "4           6   11    4   10   1  0   1   19   1    53\n",
      "5          87  124   82  126  61  0  45  106  50   681\n",
      "6          92  175   54  170   6  0  23  108  10   638\n",
      "7          15   45    8   68   0  2   6   52   3   199\n",
      "8           1    2    2    4   0  0   1    8   0    18\n",
      "All       202  359  150  379  68  2  76  299  64  1599\n",
      "\n",
      "affinity euclidean linkage complete\n",
      "Clusters   0   1   2   3    4   5    6  7    8   All\n",
      "Actual                                              \n",
      "3          0   0   0   0    7   1    2  0    0    10\n",
      "4          1   0   2   1   31   2   14  0    2    53\n",
      "5         33  12  50  42  262  29  186  0   67   681\n",
      "6         11   2   9   4  311  33  224  0   44   638\n",
      "7          4   0   7   0  124   9   53  2    0   199\n",
      "8          0   0   1   0   12   1    3  0    1    18\n",
      "All       49  14  69  47  747  75  482  2  114  1599\n",
      "\n",
      "affinity euclidean linkage average\n",
      "Clusters   0   1    2    3  4  5   6  7    8   All\n",
      "Actual                                            \n",
      "3          0   0    3    0  0  0   0  0    7    10\n",
      "4          0   2   17    2  0  0   1  0   31    53\n",
      "5         26  61  258   88  3  0   6  0  239   681\n",
      "6          5   4  294   41  0  1   7  0  286   638\n",
      "7          0   3   61    7  0  0   3  2  123   199\n",
      "8          0   0    4    2  0  0   0  0   12    18\n",
      "All       31  70  637  140  3  1  17  2  698  1599\n",
      "\n",
      "Error l1 ward\n",
      "\n",
      "affinity l1 linkage complete\n",
      "Clusters    0    1  2   3    4  5   6    7   8   All\n",
      "Actual                                              \n",
      "3           0    1  0   0    3  0   0    6   0    10\n",
      "4           4    8  0   0   14  0   1   26   0    53\n",
      "5         106  137  3  40  198  0  10  171  16   681\n",
      "6          33  125  1   5  261  0   6  204   3   638\n",
      "7           7   18  0   0   72  2   3   94   3   199\n",
      "8           2    2  0   0    4  0   0   10   0    18\n",
      "All       152  291  4  45  552  2  20  511  22  1599\n",
      "\n",
      "affinity l1 linkage average\n",
      "Clusters   0    1   2    3  4  5    6  7  8   All\n",
      "Actual                                           \n",
      "3          0    3   0    7  0  0    0  0  0    10\n",
      "4          0   14   0   33  0  0    5  1  0    53\n",
      "5         44  232   5  252  3  0  145  0  0   681\n",
      "6          5  253   5  319  0  1   55  0  0   638\n",
      "7          0   56   4  126  0  0   11  0  2   199\n",
      "8          0    2   1   13  0  0    2  0  0    18\n",
      "All       49  560  15  750  3  1  218  1  2  1599\n",
      "\n",
      "Error l2 ward\n",
      "\n",
      "affinity l2 linkage complete\n",
      "Clusters   0   1   2   3    4   5    6  7    8   All\n",
      "Actual                                              \n",
      "3          0   0   0   0    7   1    2  0    0    10\n",
      "4          1   0   2   1   31   2   14  0    2    53\n",
      "5         33  12  50  42  262  29  186  0   67   681\n",
      "6         11   2   9   4  311  33  224  0   44   638\n",
      "7          4   0   7   0  124   9   53  2    0   199\n",
      "8          0   0   1   0   12   1    3  0    1    18\n",
      "All       49  14  69  47  747  75  482  2  114  1599\n",
      "\n",
      "affinity l2 linkage average\n",
      "Clusters   0   1    2    3  4  5   6  7    8   All\n",
      "Actual                                            \n",
      "3          0   0    3    0  0  0   0  0    7    10\n",
      "4          0   2   17    2  0  0   1  0   31    53\n",
      "5         26  61  258   88  3  0   6  0  239   681\n",
      "6          5   4  294   41  0  1   7  0  286   638\n",
      "7          0   3   61    7  0  0   3  2  123   199\n",
      "8          0   0    4    2  0  0   0  0   12    18\n",
      "All       31  70  637  140  3  1  17  2  698  1599\n",
      "\n",
      "Error manhattan ward\n",
      "\n",
      "affinity manhattan linkage complete\n",
      "Clusters    0    1  2   3    4  5   6    7   8   All\n",
      "Actual                                              \n",
      "3           0    1  0   0    3  0   0    6   0    10\n",
      "4           4    8  0   0   14  0   1   26   0    53\n",
      "5         106  137  3  40  198  0  10  171  16   681\n",
      "6          33  125  1   5  261  0   6  204   3   638\n",
      "7           7   18  0   0   72  2   3   94   3   199\n",
      "8           2    2  0   0    4  0   0   10   0    18\n",
      "All       152  291  4  45  552  2  20  511  22  1599\n",
      "\n",
      "affinity manhattan linkage average\n",
      "Clusters   0    1   2    3  4  5    6  7  8   All\n",
      "Actual                                           \n",
      "3          0    3   0    7  0  0    0  0  0    10\n",
      "4          0   14   0   33  0  0    5  1  0    53\n",
      "5         44  232   5  252  3  0  145  0  0   681\n",
      "6          5  253   5  319  0  1   55  0  0   638\n",
      "7          0   56   4  126  0  0   11  0  2   199\n",
      "8          0    2   1   13  0  0    2  0  0    18\n",
      "All       49  560  15  750  3  1  218  1  2  1599\n",
      "\n",
      "Error cosine ward\n",
      "\n",
      "affinity cosine linkage complete\n",
      "Clusters    0    1   2    3   4   5  6   7   8   All\n",
      "Actual                                              \n",
      "3           1    3   0    4   0   0  0   0   2    10\n",
      "4          13   15   3   12   2   1  0   1   6    53\n",
      "5         298  217   4  112   9   5  1  12  23   681\n",
      "6         163  258  13  109  48   1  0  20  26   638\n",
      "7          25   68  17   52  13   3  0   6  15   199\n",
      "8           3    5   0    7   1   1  0   0   1    18\n",
      "All       503  566  37  296  73  11  1  39  73  1599\n",
      "\n",
      "affinity cosine linkage average\n",
      "Clusters   0    1    2   3  4  5    6   7    8   All\n",
      "Actual                                              \n",
      "3          0    1    5   0  0  0    3   0    1    10\n",
      "4          2   16   14   1  0  0   13   2    5    53\n",
      "5          2  369   68   5  2  1  147   9   78   681\n",
      "6         12  210   86   1  0  0  217  42   70   638\n",
      "7         17   38   34   3  0  0   57  10   40   199\n",
      "8          0    3    7   1  0  0    4   1    2    18\n",
      "All       33  637  214  11  2  1  441  64  196  1599\n"
     ]
    }
   ],
   "source": [
    "for _, metric in enumerate(['euclidean', 'l1', 'l2', 'manhattan', 'cosine']):\n",
    "    for _, linkage_v in enumerate(['ward', 'complete', 'average']):\n",
    "        \n",
    "        try:\n",
    "            Hclustering = AgglomerativeClustering(n_clusters = n_clusters, affinity = metric, linkage = linkage_v)\n",
    "            Hclustering.fit(X)\n",
    "            ms  = np.column_stack((y, Hclustering.labels_))\n",
    "            df  = pd.DataFrame(ms, columns = ['Actual', 'Clusters'])\n",
    "            print('\\naffinity %s linkage %s' %(metric, linkage_v))\n",
    "            print(pd.crosstab(df['Actual'], df['Clusters'], margins = True))\n",
    "            \n",
    "        except:\n",
    "            print(\"\\nError %s %s\" % (metric, linkage_v))"
   ]
  },
  {
   "cell_type": "code",
   "execution_count": 11,
   "metadata": {},
   "outputs": [],
   "source": [
    "for index, metric in enumerate([\"cosine\", \"euclidean\", \"cityblock\"]):\n",
    "    model = AgglomerativeClustering(n_clusters  = n_clusters,\n",
    "                                    linkage = \"average\", affinity = metric)\n",
    "    model.fit(X)\n"
   ]
  },
  {
   "cell_type": "code",
   "execution_count": 13,
   "metadata": {},
   "outputs": [
    {
     "data": {
      "text/plain": [
       "array([1, 2, 0, ..., 1, 0, 1], dtype=int64)"
      ]
     },
     "execution_count": 13,
     "metadata": {},
     "output_type": "execute_result"
    }
   ],
   "source": [
    "cluster = AgglomerativeClustering(n_clusters = n_clusters, affinity='euclidean', linkage='ward')  \n",
    "cluster.fit_predict(X)  "
   ]
  },
  {
   "cell_type": "code",
   "execution_count": 21,
   "metadata": {},
   "outputs": [
    {
     "ename": "AttributeError",
     "evalue": "'AgglomerativeClustering' object has no attribute 'cluster_centers_'",
     "output_type": "error",
     "traceback": [
      "\u001b[1;31m---------------------------------------------------------------------------\u001b[0m",
      "\u001b[1;31mAttributeError\u001b[0m                            Traceback (most recent call last)",
      "\u001b[1;32m<ipython-input-21-ca4609e2d9b8>\u001b[0m in \u001b[0;36m<module>\u001b[1;34m()\u001b[0m\n\u001b[1;32m----> 1\u001b[1;33m \u001b[0mcentroids\u001b[0m \u001b[1;33m=\u001b[0m \u001b[0mmodel\u001b[0m\u001b[1;33m.\u001b[0m\u001b[0mcluster_centers_\u001b[0m\u001b[1;33m\u001b[0m\u001b[0m\n\u001b[0m",
      "\u001b[1;31mAttributeError\u001b[0m: 'AgglomerativeClustering' object has no attribute 'cluster_centers_'"
     ]
    }
   ],
   "source": [
    "centroids = model.cluster_centers_"
   ]
  },
  {
   "cell_type": "code",
   "execution_count": 14,
   "metadata": {},
   "outputs": [
    {
     "name": "stdout",
     "output_type": "stream",
     "text": [
      "[1 2 0 ... 1 0 1]\n"
     ]
    }
   ],
   "source": [
    "print(cluster.labels_)  "
   ]
  },
  {
   "cell_type": "code",
   "execution_count": 15,
   "metadata": {},
   "outputs": [
    {
     "name": "stdout",
     "output_type": "stream",
     "text": [
      "0    5\n",
      "1    5\n",
      "2    5\n",
      "3    6\n",
      "4    5\n",
      "Name: quality, dtype: int64\n"
     ]
    }
   ],
   "source": [
    "print(y.head())"
   ]
  },
  {
   "cell_type": "code",
   "execution_count": 16,
   "metadata": {},
   "outputs": [],
   "source": [
    "results      = model.fit(X)\n",
    "results.fit_predict(X)\n",
    "X[\"cluster\"]  = cluster.labels_\n",
    "X[\"target\"]   =  y\n",
    "X[\"count\"]    =  'c'"
   ]
  },
  {
   "cell_type": "code",
   "execution_count": 17,
   "metadata": {},
   "outputs": [
    {
     "name": "stdout",
     "output_type": "stream",
     "text": [
      "                count\n",
      "cluster target       \n",
      "0       3           1\n",
      "        4           6\n",
      "        5          87\n",
      "        6          92\n",
      "        7          15\n",
      "        8           1\n",
      "1       3           2\n",
      "        4          11\n",
      "        5         124\n",
      "        6         175\n",
      "        7          45\n",
      "        8           2\n",
      "2       4           4\n",
      "        5          82\n",
      "        6          54\n",
      "        7           8\n",
      "        8           2\n",
      "3       3           1\n",
      "        4          10\n",
      "        5         126\n",
      "        6         170\n",
      "        7          68\n",
      "        8           4\n",
      "4       4           1\n",
      "        5          61\n",
      "        6           6\n",
      "5       7           2\n",
      "6       4           1\n",
      "        5          45\n",
      "        6          23\n",
      "        7           6\n",
      "        8           1\n",
      "7       3           6\n",
      "        4          19\n",
      "        5         106\n",
      "        6         108\n",
      "        7          52\n",
      "        8           8\n",
      "8       4           1\n",
      "        5          50\n",
      "        6          10\n",
      "        7           3\n"
     ]
    }
   ],
   "source": [
    "classification_result = X[[\"cluster\", \"target\", \"count\"]].groupby([\"cluster\", \"target\"]).agg(\"count\")\n",
    "print(classification_result)"
   ]
  }
 ],
 "metadata": {
  "kernelspec": {
   "display_name": "Python 3",
   "language": "python",
   "name": "python3"
  },
  "language_info": {
   "codemirror_mode": {
    "name": "ipython",
    "version": 3
   },
   "file_extension": ".py",
   "mimetype": "text/x-python",
   "name": "python",
   "nbconvert_exporter": "python",
   "pygments_lexer": "ipython3",
   "version": "3.6.3"
  }
 },
 "nbformat": 4,
 "nbformat_minor": 2
}
